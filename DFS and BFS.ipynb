{
 "cells": [
  {
   "cell_type": "code",
   "execution_count": 3,
   "id": "2bd2798d",
   "metadata": {},
   "outputs": [
    {
     "name": "stdout",
     "output_type": "stream",
     "text": [
      "Enter '1' for DFS or '2' for BFS (or 'q' to quit): 1\n",
      "DFS starting from vertex 0:\n",
      "0 1 3 4 2 5 Enter '1' for DFS or '2' for BFS (or 'q' to quit): 2\n",
      "BFS starting from vertex 0:\n",
      "0 1 2 3 4 5 Enter '1' for DFS or '2' for BFS (or 'q' to quit): q\n"
     ]
    }
   ],
   "source": [
    "class Graph:\n",
    "    def __init__(self):\n",
    "        self.graph = {}\n",
    "\n",
    "    def add_edge(self, u, v):\n",
    "        if u in self.graph:\n",
    "            self.graph[u].append(v)\n",
    "        else:\n",
    "            self.graph[u] = [v]\n",
    "\n",
    "    def dfs(self, start, visited=None):\n",
    "        if visited is None:\n",
    "            visited = set()\n",
    "        visited.add(start)\n",
    "        print(start, end=\" \")\n",
    "\n",
    "        for neighbor in self.graph.get(start, []):\n",
    "            if neighbor not in visited:\n",
    "                self.dfs(neighbor, visited)\n",
    "\n",
    "    def bfs(self, start):\n",
    "        visited = set()\n",
    "        queue = [start]\n",
    "        visited.add(start)\n",
    "\n",
    "        while queue:\n",
    "            node = queue.pop(0)\n",
    "            print(node, end=\" \")\n",
    "\n",
    "            for neighbor in self.graph.get(node, []):\n",
    "                if neighbor not in visited:\n",
    "                    queue.append(neighbor)\n",
    "                    visited.add(neighbor)\n",
    "\n",
    "def main():\n",
    "    g = Graph()\n",
    "    g.add_edge(0, 1)\n",
    "    g.add_edge(0, 2)\n",
    "    g.add_edge(1, 3)\n",
    "    g.add_edge(1, 4)\n",
    "    g.add_edge(2, 5)\n",
    "\n",
    "    while True:\n",
    "        choice = input(\"Enter '1' for DFS or '2' for BFS (or 'q' to quit): \")\n",
    "\n",
    "        if choice == '1':\n",
    "            print(\"DFS starting from vertex 0:\")\n",
    "            g.dfs(0)\n",
    "        elif choice == '2':\n",
    "            print(\"BFS starting from vertex 0:\")\n",
    "            g.bfs(0)\n",
    "        elif choice.lower() == 'q':\n",
    "            break\n",
    "        else:\n",
    "            print(\"Invalid choice. Please enter '1' for DFS, '2' for BFS, or 'q' to quit.\")\n",
    "\n",
    "if __name__ == \"__main__\":\n",
    "    main()\n"
   ]
  },
  {
   "cell_type": "code",
   "execution_count": null,
   "id": "089ea50d",
   "metadata": {},
   "outputs": [],
   "source": []
  }
 ],
 "metadata": {
  "kernelspec": {
   "display_name": "Python 3 (ipykernel)",
   "language": "python",
   "name": "python3"
  },
  "language_info": {
   "codemirror_mode": {
    "name": "ipython",
    "version": 3
   },
   "file_extension": ".py",
   "mimetype": "text/x-python",
   "name": "python",
   "nbconvert_exporter": "python",
   "pygments_lexer": "ipython3",
   "version": "3.10.9"
  }
 },
 "nbformat": 4,
 "nbformat_minor": 5
}
