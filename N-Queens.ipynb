{
 "cells": [
  {
   "cell_type": "code",
   "execution_count": 2,
   "id": "6ba516ba",
   "metadata": {},
   "outputs": [
    {
     "name": "stdout",
     "output_type": "stream",
     "text": [
      "Enter the number of queens (e.g., 4): 4\n",
      "Found 2 solution(s) for 4-queens problem:\n",
      "Solution 1:\n",
      ". Q . .\n",
      ". . . Q\n",
      "Q . . .\n",
      ". . Q .\n",
      "\n",
      "Solution 2:\n",
      ". . Q .\n",
      "Q . . .\n",
      ". . . Q\n",
      ". Q . .\n",
      "\n"
     ]
    }
   ],
   "source": [
    "def is_safe(board, row, col):\n",
    "    # Check if no queens threaten the current cell in the same column\n",
    "    for i in range(row):\n",
    "        if board[i] == col or \\\n",
    "           board[i] - i == col - row or \\\n",
    "           board[i] + i == col + row:\n",
    "            return False\n",
    "    return True\n",
    "\n",
    "def solve_n_queens(n):\n",
    "    def backtrack(row):\n",
    "        if row == n:\n",
    "            solutions.append(board[:])\n",
    "            return\n",
    "        for col in range(n):\n",
    "            if is_safe(board, row, col):\n",
    "                board[row] = col\n",
    "                backtrack(row + 1)\n",
    "\n",
    "    board = [-1] * n  # Initialize an empty chessboard\n",
    "    solutions = []\n",
    "    backtrack(0)\n",
    "    return solutions\n",
    "\n",
    "def print_solution(board):\n",
    "    for row in board:\n",
    "        line = ['.'] * len(board)\n",
    "        line[row] = 'Q'\n",
    "        print(' '.join(line))\n",
    "    print()\n",
    "\n",
    "def main():\n",
    "    try:\n",
    "        n = int(input(\"Enter the number of queens (e.g., 4): \"))\n",
    "        if n < 4:\n",
    "            print(\"The number of queens must be at least 4.\")\n",
    "            return\n",
    "        solutions = solve_n_queens(n)\n",
    "        if solutions:\n",
    "            print(f\"Found {len(solutions)} solution(s) for {n}-queens problem:\")\n",
    "            for i, solution in enumerate(solutions):\n",
    "                print(f\"Solution {i + 1}:\")\n",
    "                print_solution(solution)\n",
    "        else:\n",
    "            print(f\"No solution found for {n}-queens problem.\")\n",
    "    except ValueError:\n",
    "        print(\"Invalid input. Please enter a valid integer.\")\n",
    "\n",
    "if __name__ == \"__main__\":\n",
    "    main()\n"
   ]
  },
  {
   "cell_type": "code",
   "execution_count": null,
   "id": "710b293e",
   "metadata": {},
   "outputs": [],
   "source": []
  }
 ],
 "metadata": {
  "kernelspec": {
   "display_name": "Python 3 (ipykernel)",
   "language": "python",
   "name": "python3"
  },
  "language_info": {
   "codemirror_mode": {
    "name": "ipython",
    "version": 3
   },
   "file_extension": ".py",
   "mimetype": "text/x-python",
   "name": "python",
   "nbconvert_exporter": "python",
   "pygments_lexer": "ipython3",
   "version": "3.10.9"
  }
 },
 "nbformat": 4,
 "nbformat_minor": 5
}
