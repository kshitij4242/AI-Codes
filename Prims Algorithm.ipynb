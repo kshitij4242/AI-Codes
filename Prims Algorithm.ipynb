{
 "cells": [
  {
   "cell_type": "code",
   "execution_count": 1,
   "id": "ad19b0f4",
   "metadata": {},
   "outputs": [
    {
     "name": "stdout",
     "output_type": "stream",
     "text": [
      "Edge\tWeight\n",
      "0 - 1\t2\n",
      "1 - 2\t3\n",
      "0 - 3\t6\n",
      "1 - 4\t5\n"
     ]
    }
   ],
   "source": [
    "import sys\n",
    "\n",
    "def prim(graph):\n",
    "    num_vertices = len(graph)\n",
    "    # Initialize key values for all vertices to infinity\n",
    "    key = [float('inf')] * num_vertices\n",
    "    # Initialize parent array to store the MST\n",
    "    parent = [-1] * num_vertices\n",
    "    # Choose the first vertex as the starting point\n",
    "    key[0] = 0\n",
    "    mst_set = [False] * num_vertices\n",
    "    \n",
    "    for _ in range(num_vertices):\n",
    "        # Find the vertex with the minimum key value from the set of vertices not yet included in MST\n",
    "        min_key = float('inf')\n",
    "        min_index = -1\n",
    "        for v in range(num_vertices):\n",
    "            if not mst_set[v] and key[v] < min_key:\n",
    "                min_key = key[v]\n",
    "                min_index = v\n",
    "        \n",
    "        mst_set[min_index] = True\n",
    "        \n",
    "        # Update key values and parent for adjacent vertices of the chosen vertex\n",
    "        for v in range(num_vertices):\n",
    "            if (\n",
    "                graph[min_index][v] != 0  # Not in MST\n",
    "                and not mst_set[v]  # Not already included in MST\n",
    "                and graph[min_index][v] < key[v]  # Weight is less than the current key\n",
    "            ):\n",
    "                key[v] = graph[min_index][v]\n",
    "                parent[v] = min_index\n",
    "    \n",
    "    return parent\n",
    "\n",
    "def print_mst(graph, parent):\n",
    "    print(\"Edge\\tWeight\")\n",
    "    for i in range(1, len(graph)):\n",
    "        print(f\"{parent[i]} - {i}\\t{graph[i][parent[i]]}\")\n",
    "\n",
    "# Example usage:\n",
    "graph = [\n",
    "    [0, 2, 0, 6, 0],\n",
    "    [2, 0, 3, 8, 5],\n",
    "    [0, 3, 0, 0, 7],\n",
    "    [6, 8, 0, 0, 9],\n",
    "    [0, 5, 7, 9, 0]\n",
    "]\n",
    "\n",
    "parent = prim(graph)\n",
    "print_mst(graph, parent)\n"
   ]
  },
  {
   "cell_type": "code",
   "execution_count": null,
   "id": "3f01161e",
   "metadata": {},
   "outputs": [],
   "source": []
  }
 ],
 "metadata": {
  "kernelspec": {
   "display_name": "Python 3 (ipykernel)",
   "language": "python",
   "name": "python3"
  },
  "language_info": {
   "codemirror_mode": {
    "name": "ipython",
    "version": 3
   },
   "file_extension": ".py",
   "mimetype": "text/x-python",
   "name": "python",
   "nbconvert_exporter": "python",
   "pygments_lexer": "ipython3",
   "version": "3.10.9"
  }
 },
 "nbformat": 4,
 "nbformat_minor": 5
}
